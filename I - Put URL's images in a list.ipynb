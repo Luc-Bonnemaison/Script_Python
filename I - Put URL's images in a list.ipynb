{
 "cells": [
  {
   "cell_type": "code",
   "execution_count": 12,
   "id": "daf19122",
   "metadata": {},
   "outputs": [
    {
     "name": "stdout",
     "output_type": "stream",
     "text": [
      "['', '/images/branding/searchlogo/1x/googlelogo_desk_heirloom_color_150x55dp.gif', 'https://encrypted-tbn0.gstatic.com/images?q=tbn:ANd9GcSTjK2rJCweVXbklpaJp-kXtlAl-spYyQYvsfCHZfBhSeoILvvgyeMXH585uA&s', 'https://encrypted-tbn0.gstatic.com/images?q=tbn:ANd9GcRawgy06R57_gT0qJiwuKiRxAmi1qYvBfQ6wvGmMA8Lbtav4s9dLgg1alAljA&s', 'https://encrypted-tbn0.gstatic.com/images?q=tbn:ANd9GcShOEIuNoDlA54nqSJmjRkcRD0ZGsJ8uKdZQuK1aCfe7MEhbsXqZZo5lV143Uc&s', 'https://encrypted-tbn0.gstatic.com/images?q=tbn:ANd9GcQWHSi3b_qi1sHG8UMkuiCoAUJjIt2oJbqOl2kMlKySgfs21GyzPi7cYxOM28M&s', 'https://encrypted-tbn0.gstatic.com/images?q=tbn:ANd9GcQA_LbMKxh9CqrQq22w1lN7Xi6XGM3ai00dMAN_B2RvkhXzKKMC5ahE7OT3nA&s', 'https://encrypted-tbn0.gstatic.com/images?q=tbn:ANd9GcSCaPgF2JCvUJ8miPlXj0MxJJPyHKVzfOtQMPbqC-SP0nOx6FJwZQ899kVc7_w&s', 'https://encrypted-tbn0.gstatic.com/images?q=tbn:ANd9GcQnnJ8K2r9M1EocvaFNcEuq_gGrcZs16mEuzGj5TR4ja2sX0qbf1f_lMQvh0Q&s', 'https://encrypted-tbn0.gstatic.com/images?q=tbn:ANd9GcSu9dLnU6ksO6JD8eX3BDBPD0r6pkalyDZLKYchWvWaJ8HRfX9r5n_D0t7WOFQ&s', 'https://encrypted-tbn0.gstatic.com/images?q=tbn:ANd9GcRwaWSQ2WE7LV3am9APJXxQjVup2eUFOIGrOASGpKdFEijuw0V_71vSdLlxRDA&s', 'https://encrypted-tbn0.gstatic.com/images?q=tbn:ANd9GcRvv9cerK2eRDtYVx1FK_qssIPg86k-jFEpsvPxA3CXn2R26fBnIoNOcxMKVg&s', 'https://encrypted-tbn0.gstatic.com/images?q=tbn:ANd9GcQrFVsC4371m3qkHfCsNFbDdFwtDt7Nw9auqjL5Haf_QU7z72afbG9hKA_EgJM&s', 'https://encrypted-tbn0.gstatic.com/images?q=tbn:ANd9GcQDQukk_ZOWBblG8XN0HGhY6bOHXqzZsaP4Rp_3oDjQS-VVSV62zE4QDaiWsw&s', 'https://encrypted-tbn0.gstatic.com/images?q=tbn:ANd9GcTC7KmW2INi4_sHwIYu_RoU7x_oWsyCWxDdWA4OgAPKLBK1zuMOmJnAdHop2Q&s', 'https://encrypted-tbn0.gstatic.com/images?q=tbn:ANd9GcSfpJDNbma242jIadJCL7fe6H8lBTe6jzP4zOCkLPAqzgZTgGhvr59Fggv0Sdc&s', 'https://encrypted-tbn0.gstatic.com/images?q=tbn:ANd9GcTi2Y0R7Xf3PMxYiEwTlAjEQ9EiHRhMHtI8YF62EyHl9qV738h9pR77dLqaQ1I&s', 'https://encrypted-tbn0.gstatic.com/images?q=tbn:ANd9GcSLJevNOF8-qF8orSKF89RzqQzDAlNFj9fksuHVQOw5a2rHgX7ZNZ8mp41fdzw&s', 'https://encrypted-tbn0.gstatic.com/images?q=tbn:ANd9GcTQJqxjKQycRHmU1LxpDbr8gcS0gtHI6NqgWfTVgIfaHVO_PMl-7BNXTF8nEg&s', 'https://encrypted-tbn0.gstatic.com/images?q=tbn:ANd9GcTInpZ1TCU1C-oFYf0IhPLSiG8mhDWyT3BHAuz6xl4mynL8TTbn_lvSHZsdNsc&s', 'https://encrypted-tbn0.gstatic.com/images?q=tbn:ANd9GcSwRCpzxyCcvP7l7UsFpQ0Iqkj3zgfBMmDyRsaWRL2DDWCg9suJeyuAzTjDTN8&s', 'https://encrypted-tbn0.gstatic.com/images?q=tbn:ANd9GcSvWkd2MsTejuFf-YtemeO854-zdQWgaHF2gqp71tNdDnc-bQfqWm2PiI4U34s&s']\n",
      "22\n"
     ]
    }
   ],
   "source": [
    "#Put URL's images in a list\n",
    "\n",
    "#Parameters to fill\n",
    "URL_to_query = \"https://www.google.com/search?q=moto&rlz=1C1GCEA_enFR958FR958&source=lnms&tbm=isch&sa=X&ved=2ahUKEwi0_c7mwNnzAhVB5uAKHdfyA40Q_AUoAXoECAIQAw&biw=1366&bih=657&dpr=1\"\n",
    "\n",
    "import requests\n",
    "from bs4 import BeautifulSoup\n",
    "\n",
    "url_conc = str()\n",
    "\n",
    "def getdata(url):\n",
    "    r = requests.get(url)\n",
    "    return r.text\n",
    "\n",
    "htmldata = getdata(URL_to_query)\n",
    "soup = BeautifulSoup(htmldata, 'html.parser')\n",
    "for item in soup.find_all('img'):\n",
    "    url_conc = url_conc  + '||' + item['src'] \n",
    "    \n",
    "url_list = url_conc.split('||')\n",
    "del url_list[0:2]\n"
   ]
  },
  {
   "cell_type": "code",
   "execution_count": null,
   "id": "2bb7744b",
   "metadata": {},
   "outputs": [],
   "source": []
  }
 ],
 "metadata": {
  "kernelspec": {
   "display_name": "Python 3 (ipykernel)",
   "language": "python",
   "name": "python3"
  },
  "language_info": {
   "codemirror_mode": {
    "name": "ipython",
    "version": 3
   },
   "file_extension": ".py",
   "mimetype": "text/x-python",
   "name": "python",
   "nbconvert_exporter": "python",
   "pygments_lexer": "ipython3",
   "version": "3.7.11"
  }
 },
 "nbformat": 4,
 "nbformat_minor": 5
}
